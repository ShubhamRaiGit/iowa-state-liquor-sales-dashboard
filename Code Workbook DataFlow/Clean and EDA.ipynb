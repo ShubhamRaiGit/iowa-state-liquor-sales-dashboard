{
 "cells": [
  {
   "cell_type": "code",
   "execution_count": 2,
   "id": "e31061e7",
   "metadata": {},
   "outputs": [],
   "source": [
    "import pandas as pd\n",
    "import re"
   ]
  },
  {
   "cell_type": "code",
   "execution_count": 3,
   "id": "2d0e1e9e",
   "metadata": {},
   "outputs": [
    {
     "name": "stderr",
     "output_type": "stream",
     "text": [
      "C:\\Users\\cyphe\\anaconda3\\lib\\site-packages\\IPython\\core\\interactiveshell.py:3165: DtypeWarning: Columns (6,14) have mixed types.Specify dtype option on import or set low_memory=False.\n",
      "  has_raised = await self.run_ast_nodes(code_ast.body, cell_name,\n"
     ]
    }
   ],
   "source": [
    "df = pd.read_csv(\"dataset/Iowa_Liquor_Sales.csv\")"
   ]
  },
  {
   "cell_type": "code",
   "execution_count": 4,
   "id": "b09a2898",
   "metadata": {},
   "outputs": [
    {
     "data": {
      "text/plain": [
       "array(['Invoice/Item Number', 'Date', 'Store Number', 'Store Name',\n",
       "       'Address', 'City', 'Zip Code', 'Store Location', 'County Number',\n",
       "       'County', 'Category', 'Category Name', 'Vendor Number',\n",
       "       'Vendor Name', 'Item Number', 'Item Description', 'Pack',\n",
       "       'Bottle Volume (ml)', 'State Bottle Cost', 'State Bottle Retail',\n",
       "       'Bottles Sold', 'Sale (Dollars)', 'Volume Sold (Liters)',\n",
       "       'Volume Sold (Gallons)'], dtype=object)"
      ]
     },
     "execution_count": 4,
     "metadata": {},
     "output_type": "execute_result"
    }
   ],
   "source": [
    "df.columns.values"
   ]
  },
  {
   "cell_type": "code",
   "execution_count": 5,
   "id": "ba47cf05",
   "metadata": {},
   "outputs": [],
   "source": [
    "lossDict = {}\n",
    "lossDict['fullsize'] = df.shape[0] "
   ]
  },
  {
   "cell_type": "code",
   "execution_count": 29,
   "id": "90757ee3",
   "metadata": {},
   "outputs": [
    {
     "name": "stdout",
     "output_type": "stream",
     "text": [
      "<class 'pandas.core.frame.DataFrame'>\n",
      "RangeIndex: 14066443 entries, 0 to 14066442\n",
      "Data columns (total 24 columns):\n",
      " #   Column                 Dtype  \n",
      "---  ------                 -----  \n",
      " 0   Invoice/Item Number    object \n",
      " 1   Date                   object \n",
      " 2   Store Number           int64  \n",
      " 3   Store Name             object \n",
      " 4   Address                object \n",
      " 5   City                   object \n",
      " 6   Zip Code               object \n",
      " 7   Store Location         object \n",
      " 8   County Number          float64\n",
      " 9   County                 object \n",
      " 10  Category               float64\n",
      " 11  Category Name          object \n",
      " 12  Vendor Number          float64\n",
      " 13  Vendor Name            object \n",
      " 14  Item Number            object \n",
      " 15  Item Description       object \n",
      " 16  Pack                   int64  \n",
      " 17  Bottle Volume (ml)     int64  \n",
      " 18  State Bottle Cost      float64\n",
      " 19  State Bottle Retail    float64\n",
      " 20  Bottles Sold           int64  \n",
      " 21  Sale (Dollars)         float64\n",
      " 22  Volume Sold (Liters)   float64\n",
      " 23  Volume Sold (Gallons)  float64\n",
      "dtypes: float64(8), int64(4), object(12)\n",
      "memory usage: 2.5+ GB\n"
     ]
    }
   ],
   "source": [
    "df.info()"
   ]
  },
  {
   "cell_type": "code",
   "execution_count": 30,
   "id": "af029a44",
   "metadata": {},
   "outputs": [
    {
     "data": {
      "text/plain": [
       "Invoice/Item Number            0\n",
       "Date                           0\n",
       "Store Number                   0\n",
       "Store Name                     0\n",
       "Address                    79992\n",
       "City                       79991\n",
       "Zip Code                   80036\n",
       "Store Location           1419941\n",
       "County Number             148364\n",
       "County                    148362\n",
       "Category                   15139\n",
       "Category Name              20889\n",
       "Vendor Number                  9\n",
       "Vendor Name                    7\n",
       "Item Number                    0\n",
       "Item Description               0\n",
       "Pack                           0\n",
       "Bottle Volume (ml)             0\n",
       "State Bottle Cost              0\n",
       "State Bottle Retail            0\n",
       "Bottles Sold                   0\n",
       "Sale (Dollars)                 0\n",
       "Volume Sold (Liters)           0\n",
       "Volume Sold (Gallons)          0\n",
       "dtype: int64"
      ]
     },
     "execution_count": 30,
     "metadata": {},
     "output_type": "execute_result"
    }
   ],
   "source": [
    "df.isnull().sum()"
   ]
  },
  {
   "cell_type": "code",
   "execution_count": 6,
   "id": "b1c556be",
   "metadata": {},
   "outputs": [],
   "source": [
    "df.dropna(inplace=True)\n",
    "lossDict['nullloss'] = (lossDict['fullsize']- df.shape[0])"
   ]
  },
  {
   "cell_type": "code",
   "execution_count": 7,
   "id": "0ff5764f",
   "metadata": {},
   "outputs": [
    {
     "data": {
      "text/plain": [
       "1500557"
      ]
     },
     "execution_count": 7,
     "metadata": {},
     "output_type": "execute_result"
    }
   ],
   "source": [
    "lossDict['nullloss']"
   ]
  },
  {
   "cell_type": "code",
   "execution_count": 10,
   "id": "bf32f319",
   "metadata": {},
   "outputs": [
    {
     "data": {
      "text/plain": [
       "(12565886, 24)"
      ]
     },
     "execution_count": 10,
     "metadata": {},
     "output_type": "execute_result"
    }
   ],
   "source": [
    "df.shape"
   ]
  },
  {
   "cell_type": "code",
   "execution_count": 32,
   "id": "e51f7d67",
   "metadata": {},
   "outputs": [],
   "source": [
    "nameDict = {\"Invoice/Item Number\":\"invoicenumber\"\n",
    ",\"Date\":\"date\"\n",
    ",\"Store Number\":\"storenumber\"\n",
    ",\"Store Name\":\"storename\"\n",
    ",\"Address\":\"address\"            \n",
    ",\"City\":\"city\"\n",
    ",\"Zip Code\":\"zipcode\"\n",
    ",\"Store Location\":\"storelocation\"\n",
    ",\"County Number\":\"countynumber\"\n",
    ",\"County\":\"countyname\"\n",
    ",\"Category\":\"categorynumber\"\n",
    ",\"Category Name\":\"categoryname\"\n",
    ",\"Vendor Name\":\"vendorname\"\n",
    ",\"Vendor Number\":\"vendornumber\"\n",
    ",\"Item Number\":\"itemnumber\"\n",
    ",\"Item Description\":\"itemdescription\"\n",
    ",\"Pack\":\"pack\"\n",
    ",\"Bottle Volume (ml)\":\"bottlevolumeml\"\n",
    ",\"State Bottle Cost\":\"statebottlecost\"\n",
    ",\"State Bottle Retail\":\"statebottleretail\"\n",
    ",\"Bottles Sold\":\"bottlessold\"\n",
    ",\"Sale (Dollars)\":\"saleprice\"\n",
    ",\"Volume Sold (Liters)\":\"volumesoldlitre\"\n",
    ",\"Volume Sold (Gallons)\":\"volumesoldgallon\"}\n",
    "\n",
    "df.rename(columns = nameDict,inplace=True)"
   ]
  },
  {
   "cell_type": "code",
   "execution_count": null,
   "id": "70fa63f9",
   "metadata": {},
   "outputs": [],
   "source": []
  },
  {
   "cell_type": "code",
   "execution_count": 33,
   "id": "f9c5d86c",
   "metadata": {},
   "outputs": [],
   "source": [
    "#First, mutate the store location column; replace it with just the GPS substring.\n",
    "def cutgps(cell,myregex):\n",
    "    store = re.findall(myregex,cell)\n",
    "    if (store): #empty\n",
    "         retVal = store[0]\n",
    "    else:\n",
    "         retVal = \"NA\" #Some of the entries are missing their lat/long data\n",
    "    return retVal\n",
    "\n",
    "myregex = r\"(\\(.+,.+\\))\"\n",
    "df['storelocation_cleaned'] = df['storelocation'].apply(cutgps,args=(myregex,))"
   ]
  },
  {
   "cell_type": "code",
   "execution_count": 34,
   "id": "6f704663",
   "metadata": {},
   "outputs": [
    {
     "name": "stdout",
     "output_type": "stream",
     "text": [
      "Rows Lost: 1500557\n",
      " Percentage Loss: 0.1066763644511978\n"
     ]
    }
   ],
   "source": [
    "rowsum = lossDict['nullloss'] \n",
    "print(\"Rows Lost: \" + str(rowsum) + \"\\n Percentage Loss: \" + str(rowsum/lossDict['fullsize']))"
   ]
  },
  {
   "cell_type": "code",
   "execution_count": 35,
   "id": "8e47aff8",
   "metadata": {},
   "outputs": [
    {
     "data": {
      "text/html": [
       "<div>\n",
       "<style scoped>\n",
       "    .dataframe tbody tr th:only-of-type {\n",
       "        vertical-align: middle;\n",
       "    }\n",
       "\n",
       "    .dataframe tbody tr th {\n",
       "        vertical-align: top;\n",
       "    }\n",
       "\n",
       "    .dataframe thead th {\n",
       "        text-align: right;\n",
       "    }\n",
       "</style>\n",
       "<table border=\"1\" class=\"dataframe\">\n",
       "  <thead>\n",
       "    <tr style=\"text-align: right;\">\n",
       "      <th></th>\n",
       "      <th>invoicenumber</th>\n",
       "      <th>date</th>\n",
       "      <th>storenumber</th>\n",
       "      <th>storename</th>\n",
       "      <th>address</th>\n",
       "      <th>city</th>\n",
       "      <th>zipcode</th>\n",
       "      <th>storelocation</th>\n",
       "      <th>countynumber</th>\n",
       "      <th>countyname</th>\n",
       "      <th>...</th>\n",
       "      <th>itemdescription</th>\n",
       "      <th>pack</th>\n",
       "      <th>bottlevolumeml</th>\n",
       "      <th>statebottlecost</th>\n",
       "      <th>statebottleretail</th>\n",
       "      <th>bottlessold</th>\n",
       "      <th>saleprice</th>\n",
       "      <th>volumesoldlitre</th>\n",
       "      <th>volumesoldgallon</th>\n",
       "      <th>storelocation_cleaned</th>\n",
       "    </tr>\n",
       "  </thead>\n",
       "  <tbody>\n",
       "    <tr>\n",
       "      <th>14066439</th>\n",
       "      <td>S31243400046</td>\n",
       "      <td>03/15/2016</td>\n",
       "      <td>2604</td>\n",
       "      <td>Hy-Vee Wine and Spirits / Lemars</td>\n",
       "      <td>1201 12TH AVE SW</td>\n",
       "      <td>LEMARS</td>\n",
       "      <td>51031</td>\n",
       "      <td>POINT (-96.18335000000002 42.778257)</td>\n",
       "      <td>75.0</td>\n",
       "      <td>Plymouth</td>\n",
       "      <td>...</td>\n",
       "      <td>Mccormick Vodka Pet</td>\n",
       "      <td>24</td>\n",
       "      <td>375</td>\n",
       "      <td>1.80</td>\n",
       "      <td>2.70</td>\n",
       "      <td>24</td>\n",
       "      <td>64.80</td>\n",
       "      <td>9.0</td>\n",
       "      <td>2.38</td>\n",
       "      <td>NA</td>\n",
       "    </tr>\n",
       "    <tr>\n",
       "      <th>14066441</th>\n",
       "      <td>S31223200005</td>\n",
       "      <td>03/15/2016</td>\n",
       "      <td>4978</td>\n",
       "      <td>Prime Mart / Waterloo</td>\n",
       "      <td>3535 MARIGOLD DR</td>\n",
       "      <td>WATERLOO</td>\n",
       "      <td>50702</td>\n",
       "      <td>POINT (-92.291335 42.435434)</td>\n",
       "      <td>7.0</td>\n",
       "      <td>Black Hawk</td>\n",
       "      <td>...</td>\n",
       "      <td>Fireball Cinnamon</td>\n",
       "      <td>48</td>\n",
       "      <td>100</td>\n",
       "      <td>0.89</td>\n",
       "      <td>1.34</td>\n",
       "      <td>48</td>\n",
       "      <td>64.32</td>\n",
       "      <td>4.8</td>\n",
       "      <td>1.27</td>\n",
       "      <td>NA</td>\n",
       "    </tr>\n",
       "    <tr>\n",
       "      <th>14066442</th>\n",
       "      <td>S31203000004</td>\n",
       "      <td>03/14/2016</td>\n",
       "      <td>2628</td>\n",
       "      <td>Hy-Vee Food Store / Eldora</td>\n",
       "      <td>1616 EDGINGTON</td>\n",
       "      <td>ELDORA</td>\n",
       "      <td>50627</td>\n",
       "      <td>POINT (-93.103764 42.360631)</td>\n",
       "      <td>42.0</td>\n",
       "      <td>Hardin</td>\n",
       "      <td>...</td>\n",
       "      <td>Black Velvet</td>\n",
       "      <td>6</td>\n",
       "      <td>1750</td>\n",
       "      <td>10.45</td>\n",
       "      <td>15.68</td>\n",
       "      <td>12</td>\n",
       "      <td>188.16</td>\n",
       "      <td>21.0</td>\n",
       "      <td>5.55</td>\n",
       "      <td>NA</td>\n",
       "    </tr>\n",
       "  </tbody>\n",
       "</table>\n",
       "<p>3 rows × 25 columns</p>\n",
       "</div>"
      ],
      "text/plain": [
       "         invoicenumber        date  storenumber  \\\n",
       "14066439  S31243400046  03/15/2016         2604   \n",
       "14066441  S31223200005  03/15/2016         4978   \n",
       "14066442  S31203000004  03/14/2016         2628   \n",
       "\n",
       "                                 storename           address      city  \\\n",
       "14066439  Hy-Vee Wine and Spirits / Lemars  1201 12TH AVE SW    LEMARS   \n",
       "14066441             Prime Mart / Waterloo  3535 MARIGOLD DR  WATERLOO   \n",
       "14066442        Hy-Vee Food Store / Eldora    1616 EDGINGTON    ELDORA   \n",
       "\n",
       "         zipcode                         storelocation  countynumber  \\\n",
       "14066439   51031  POINT (-96.18335000000002 42.778257)          75.0   \n",
       "14066441   50702          POINT (-92.291335 42.435434)           7.0   \n",
       "14066442   50627          POINT (-93.103764 42.360631)          42.0   \n",
       "\n",
       "          countyname  ...      itemdescription pack  bottlevolumeml  \\\n",
       "14066439    Plymouth  ...  Mccormick Vodka Pet   24             375   \n",
       "14066441  Black Hawk  ...    Fireball Cinnamon   48             100   \n",
       "14066442      Hardin  ...         Black Velvet    6            1750   \n",
       "\n",
       "         statebottlecost statebottleretail bottlessold  saleprice  \\\n",
       "14066439            1.80              2.70          24      64.80   \n",
       "14066441            0.89              1.34          48      64.32   \n",
       "14066442           10.45             15.68          12     188.16   \n",
       "\n",
       "          volumesoldlitre  volumesoldgallon  storelocation_cleaned  \n",
       "14066439              9.0              2.38                     NA  \n",
       "14066441              4.8              1.27                     NA  \n",
       "14066442             21.0              5.55                     NA  \n",
       "\n",
       "[3 rows x 25 columns]"
      ]
     },
     "execution_count": 35,
     "metadata": {},
     "output_type": "execute_result"
    }
   ],
   "source": [
    "df.tail(3)"
   ]
  },
  {
   "cell_type": "code",
   "execution_count": 36,
   "id": "7d53b8c3",
   "metadata": {},
   "outputs": [],
   "source": [
    "df.to_csv('dataset/cleaned_data.csv')"
   ]
  }
 ],
 "metadata": {
  "kernelspec": {
   "display_name": "Python 3",
   "language": "python",
   "name": "python3"
  },
  "language_info": {
   "codemirror_mode": {
    "name": "ipython",
    "version": 3
   },
   "file_extension": ".py",
   "mimetype": "text/x-python",
   "name": "python",
   "nbconvert_exporter": "python",
   "pygments_lexer": "ipython3",
   "version": "3.8.8"
  }
 },
 "nbformat": 4,
 "nbformat_minor": 5
}
